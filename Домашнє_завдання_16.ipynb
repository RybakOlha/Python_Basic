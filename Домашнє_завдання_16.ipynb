{
  "nbformat": 4,
  "nbformat_minor": 0,
  "metadata": {
    "colab": {
      "provenance": [],
      "toc_visible": true,
      "authorship_tag": "ABX9TyNWWXc1a4ucWrFNh90DQbUg",
      "include_colab_link": true
    },
    "kernelspec": {
      "name": "python3",
      "display_name": "Python 3"
    },
    "language_info": {
      "name": "python"
    }
  },
  "cells": [
    {
      "cell_type": "markdown",
      "metadata": {
        "id": "view-in-github",
        "colab_type": "text"
      },
      "source": [
        "<a href=\"https://colab.research.google.com/github/RybakOlha/Python_Basic/blob/main/%D0%94%D0%BE%D0%BC%D0%B0%D1%88%D0%BD%D1%94_%D0%B7%D0%B0%D0%B2%D0%B4%D0%B0%D0%BD%D0%BD%D1%8F_16.ipynb\" target=\"_parent\"><img src=\"https://colab.research.google.com/assets/colab-badge.svg\" alt=\"Open In Colab\"/></a>"
      ]
    },
    {
      "cell_type": "code",
      "execution_count": 2,
      "metadata": {
        "id": "CR5kaChA-sbf"
      },
      "outputs": [],
      "source": [
        "import json\n",
        "\n",
        "my_dict = {\n",
        "    345643: (\"Alice\", 15),\n",
        "    786547: (\"Tracy\", 16),\n",
        "    376548: (\"Serge\", 40),\n",
        "    345619: (\"David\", 20),\n",
        "    456728: (\"Michael\", 35)\n",
        "}\n",
        "\n",
        "with open(\"my_dict.json\", \"w\") as file:\n",
        "    json.dump(my_dict, file)"
      ]
    }
  ]
}