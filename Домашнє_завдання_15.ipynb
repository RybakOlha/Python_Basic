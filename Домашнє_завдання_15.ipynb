{
  "nbformat": 4,
  "nbformat_minor": 0,
  "metadata": {
    "colab": {
      "provenance": [],
      "authorship_tag": "ABX9TyM0m4oXKp8zgur+iHrCxHWT",
      "include_colab_link": true
    },
    "kernelspec": {
      "name": "python3",
      "display_name": "Python 3"
    },
    "language_info": {
      "name": "python"
    }
  },
  "cells": [
    {
      "cell_type": "markdown",
      "metadata": {
        "id": "view-in-github",
        "colab_type": "text"
      },
      "source": [
        "<a href=\"https://colab.research.google.com/github/RybakOlha/Python_Basic/blob/main/%D0%94%D0%BE%D0%BC%D0%B0%D1%88%D0%BD%D1%94_%D0%B7%D0%B0%D0%B2%D0%B4%D0%B0%D0%BD%D0%BD%D1%8F_15.ipynb\" target=\"_parent\"><img src=\"https://colab.research.google.com/assets/colab-badge.svg\" alt=\"Open In Colab\"/></a>"
      ]
    },
    {
      "cell_type": "code",
      "execution_count": 3,
      "metadata": {
        "colab": {
          "base_uri": "https://localhost:8080/"
        },
        "id": "_YFq8Nkk9X4H",
        "outputId": "7f00c1df-0941-44d3-fa3e-b047510e5fe8"
      },
      "outputs": [
        {
          "name": "stdout",
          "output_type": "stream",
          "text": [
            "Введіть перший рядок: рі\n",
            "Введіть другий рядок: пр\n",
            "Введіть третій рядок: йІй\n",
            "Введіть четвертий рядок: цвЦФ\n"
          ]
        }
      ],
      "source": [
        "line1 = input(\"Введіть перший рядок: \")\n",
        "line2 = input(\"Введіть другий рядок: \")\n",
        "line3 = input(\"Введіть третій рядок: \")\n",
        "line4 = input(\"Введіть четвертий рядок: \")\n",
        "\n",
        "with open(\"file.txt\", \"w\") as file:\n",
        "    file.write(line1 + \"\\n\")\n",
        "    file.write(line2 + \"\\n\")\n",
        "\n",
        "with open(\"file.txt\", \"a\") as file:\n",
        "    file.write(line3 + \"\\n\")\n",
        "    file.write(line4 + \"\\n\")"
      ]
    }
  ]
}